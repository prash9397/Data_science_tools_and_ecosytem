{
 "cells": [
  {
   "cell_type": "markdown",
   "id": "5fedf4db",
   "metadata": {},
   "source": [
    "# Data Science Tools and Ecosystem"
   ]
  },
  {
   "cell_type": "markdown",
   "id": "ffae3814",
   "metadata": {},
   "source": [
    "![data science](https://encrypted-tbn0.gstatic.com/images?q=tbn:ANd9GcSiE_JfU5csgcQdT3fwAI9AiTaDM5sZpiw7-YXa-LmGSLZJakC52GkgivWuZb8YLNGBmTY&usqp=CAU.png)"
   ]
  },
  {
   "cell_type": "markdown",
   "id": "feab4fa7",
   "metadata": {},
   "source": [
    "In this notebook, Data Science Tools and Ecosystem are summarized."
   ]
  },
  {
   "cell_type": "markdown",
   "id": "f600f57f",
   "metadata": {},
   "source": [
    "Some of the popular languages that Data Scientists use are:\n",
    "  1. Python\n",
    "  2. R\n",
    "  3. Julie\n",
    "    "
   ]
  },
  {
   "cell_type": "markdown",
   "id": "37468286",
   "metadata": {},
   "source": [
    "Some of the commonly used libraries used by Data Scientists include:\n",
    "   1.  Numpy\n",
    "   2. Pandas\n",
    "   3. seaborn\n",
    "   4. Matplotlib\n",
    "    "
   ]
  },
  {
   "cell_type": "markdown",
   "id": "7e74b5f6",
   "metadata": {},
   "source": [
    "|Data Science Tools |\n",
    "|-------------------|\n",
    "|RStudio            |\n",
    "|Apache Spark       |\n",
    "|Tensor Flow        |"
   ]
  },
  {
   "cell_type": "markdown",
   "id": "3c432f87",
   "metadata": {},
   "source": [
    "### Below are a few examples of evaluating arithmatic expressions in Python ###\n"
   ]
  },
  {
   "cell_type": "code",
   "execution_count": 1,
   "id": "af0d17a5",
   "metadata": {},
   "outputs": [
    {
     "data": {
      "text/plain": [
       "17"
      ]
     },
     "execution_count": 1,
     "metadata": {},
     "output_type": "execute_result"
    }
   ],
   "source": [
    "# This a simple arithmatic expression to multiply then add integers\n",
    "(3*4)+5"
   ]
  },
  {
   "cell_type": "code",
   "execution_count": 2,
   "id": "d41d309f",
   "metadata": {},
   "outputs": [
    {
     "data": {
      "text/plain": [
       "3.3333333333333335"
      ]
     },
     "execution_count": 2,
     "metadata": {},
     "output_type": "execute_result"
    }
   ],
   "source": [
    "# This will convert 200 minutes to hours by dividing by 60\n",
    "200/60"
   ]
  },
  {
   "cell_type": "markdown",
   "id": "1d4ac448",
   "metadata": {},
   "source": [
    "**Objectives:**\n",
    "* List of popular languges in data science\n",
    "* List of mostly used libreries in data science\n",
    "* List of data science Tools\n",
    "* Basic arithmatic operations "
   ]
  },
  {
   "cell_type": "markdown",
   "id": "67abe804",
   "metadata": {},
   "source": [
    "## Author ##\n",
    "Prashant Godse"
   ]
  },
  {
   "cell_type": "code",
   "execution_count": null,
   "id": "97fd7757",
   "metadata": {},
   "outputs": [],
   "source": []
  }
 ],
 "metadata": {
  "kernelspec": {
   "display_name": "Python 3 (ipykernel)",
   "language": "python",
   "name": "python3"
  },
  "language_info": {
   "codemirror_mode": {
    "name": "ipython",
    "version": 3
   },
   "file_extension": ".py",
   "mimetype": "text/x-python",
   "name": "python",
   "nbconvert_exporter": "python",
   "pygments_lexer": "ipython3",
   "version": "3.11.4"
  }
 },
 "nbformat": 4,
 "nbformat_minor": 5
}
